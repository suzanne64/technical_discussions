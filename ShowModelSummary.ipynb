{
  "nbformat": 4,
  "nbformat_minor": 0,
  "metadata": {
    "colab": {
      "name": "ShowModelSummary.ipynb",
      "provenance": [],
      "collapsed_sections": [],
      "authorship_tag": "ABX9TyP8G8itNYZhOGydL2rIwWBN",
      "include_colab_link": true
    },
    "kernelspec": {
      "name": "python3",
      "display_name": "Python 3"
    },
    "language_info": {
      "name": "python"
    }
  },
  "cells": [
    {
      "cell_type": "markdown",
      "metadata": {
        "id": "view-in-github",
        "colab_type": "text"
      },
      "source": [
        "<a href=\"https://colab.research.google.com/github/suzanne64/technical_discussions/blob/main/ShowModelSummary.ipynb\" target=\"_parent\"><img src=\"https://colab.research.google.com/assets/colab-badge.svg\" alt=\"Open In Colab\"/></a>"
      ]
    },
    {
      "cell_type": "markdown",
      "metadata": {
        "id": "C2YbBbLVdZnP"
      },
      "source": [
        "## This notebook shows the architecture of your model"
      ]
    },
    {
      "cell_type": "markdown",
      "metadata": {
        "id": "hLyK5CAwnQrG"
      },
      "source": [
        "Start by importing tensor flow packages for building the \"basic\" model."
      ]
    },
    {
      "cell_type": "code",
      "metadata": {
        "id": "D3k2q0linIhN"
      },
      "source": [
        "from tensorflow.keras.models import Sequential\n",
        "from tensorflow.keras.layers import InputLayer, Dropout, Conv2D\n",
        "from tensorflow.keras.layers import BatchNormalization, MaxPooling2D, Flatten, Dense\n",
        "from tensorflow.keras.optimizers import SGD\n",
        "from tensorflow.keras.losses import binary_crossentropy"
      ],
      "execution_count": 6,
      "outputs": []
    },
    {
      "cell_type": "markdown",
      "metadata": {
        "id": "XMvdd3Vpdq3W"
      },
      "source": [
        "User must enter height and width of images as *nh* and *nw*, as well as number of channels, *nc*."
      ]
    },
    {
      "cell_type": "code",
      "metadata": {
        "colab": {
          "base_uri": "https://localhost:8080/"
        },
        "id": "D1vWkDlqdUVM",
        "outputId": "a8fff0cd-ccb6-4f84-f983-4b2f44f3537e"
      },
      "source": [
        "nw=171\n",
        "nh=61\n",
        "nc=1\n",
        "print(f'Images are {nh} pixels high, and {nw} pixels wide.')\n",
        "print(f'The Number of color channels is {nc}.')"
      ],
      "execution_count": 7,
      "outputs": [
        {
          "output_type": "stream",
          "name": "stdout",
          "text": [
            "Images are 61 pixels high, and 171 pixels wide.\n",
            "The Number of color channels is 1.\n"
          ]
        }
      ]
    },
    {
      "cell_type": "code",
      "metadata": {
        "id": "7ZF32A_Zm13m"
      },
      "source": [
        "def getModel(nh,nw,nc,layers=2):\n",
        "    # Build Sequential convolutional neural network model\n",
        "    model = Sequential([\n",
        "        InputLayer(input_shape=(nh,nw,nc)),\n",
        "        Dropout(0.2, name='dropout_0'),\n",
        "        Conv2D(16, (5,5), padding='same', activation='relu', name='block1_conv2d_1'),\n",
        "        BatchNormalization(momentum=0.95),  # default momentum = 0.99\n",
        "        MaxPooling2D(pool_size=(2,2), name='pool_1'),\n",
        "        Dropout(0.2, name='dropout_1'),\n",
        "        Conv2D(16, (5,5), padding='same', activation='relu', name='block2_conv2d_1'),\n",
        "        BatchNormalization(momentum=0.95),\n",
        "        MaxPooling2D(pool_size=(2,2), name='pool_2'),\n",
        "        Dropout(0.2, name='dropout_2')\n",
        "        ])\n",
        "    if layers==3:\n",
        "        model.add(Conv2D(16, (5,5), padding='same', activation='relu', name='block3_conv2d_1'))\n",
        "        model.add(BatchNormalization())\n",
        "        model.add(MaxPooling2D(pool_size=(2,2), name='pool_3'))\n",
        "    model.add(Flatten())\n",
        "    #model.add(Dense(128,activation='relu'))\n",
        "    model.add(Dense(2,activation='softmax'))\n",
        "    model.compile(optimizer = SGD(),       # defaults: lr 0.01, momentum 0.0\n",
        "                  loss = 'binary_crossentropy', \n",
        "                  metrics=['accuracy'])  \n",
        "    return model"
      ],
      "execution_count": 8,
      "outputs": []
    },
    {
      "cell_type": "code",
      "metadata": {
        "colab": {
          "base_uri": "https://localhost:8080/"
        },
        "id": "4aN40aaem-EP",
        "outputId": "0221bbb0-c57e-4d49-db88-2184d8a80410"
      },
      "source": [
        "basic = getModel(nh,nw,nc,layers=3)\n",
        "basic.summary()"
      ],
      "execution_count": 9,
      "outputs": [
        {
          "output_type": "stream",
          "name": "stdout",
          "text": [
            "Model: \"sequential\"\n",
            "_________________________________________________________________\n",
            "Layer (type)                 Output Shape              Param #   \n",
            "=================================================================\n",
            "dropout_0 (Dropout)          (None, 61, 171, 1)        0         \n",
            "_________________________________________________________________\n",
            "block1_conv2d_1 (Conv2D)     (None, 61, 171, 16)       416       \n",
            "_________________________________________________________________\n",
            "batch_normalization (BatchNo (None, 61, 171, 16)       64        \n",
            "_________________________________________________________________\n",
            "pool_1 (MaxPooling2D)        (None, 30, 85, 16)        0         \n",
            "_________________________________________________________________\n",
            "dropout_1 (Dropout)          (None, 30, 85, 16)        0         \n",
            "_________________________________________________________________\n",
            "block2_conv2d_1 (Conv2D)     (None, 30, 85, 16)        6416      \n",
            "_________________________________________________________________\n",
            "batch_normalization_1 (Batch (None, 30, 85, 16)        64        \n",
            "_________________________________________________________________\n",
            "pool_2 (MaxPooling2D)        (None, 15, 42, 16)        0         \n",
            "_________________________________________________________________\n",
            "dropout_2 (Dropout)          (None, 15, 42, 16)        0         \n",
            "_________________________________________________________________\n",
            "block3_conv2d_1 (Conv2D)     (None, 15, 42, 16)        6416      \n",
            "_________________________________________________________________\n",
            "batch_normalization_2 (Batch (None, 15, 42, 16)        64        \n",
            "_________________________________________________________________\n",
            "pool_3 (MaxPooling2D)        (None, 7, 21, 16)         0         \n",
            "_________________________________________________________________\n",
            "flatten (Flatten)            (None, 2352)              0         \n",
            "_________________________________________________________________\n",
            "dense (Dense)                (None, 2)                 4706      \n",
            "=================================================================\n",
            "Total params: 18,146\n",
            "Trainable params: 18,050\n",
            "Non-trainable params: 96\n",
            "_________________________________________________________________\n"
          ]
        }
      ]
    },
    {
      "cell_type": "code",
      "metadata": {
        "id": "gmOqr9manGFt"
      },
      "source": [
        ""
      ],
      "execution_count": null,
      "outputs": []
    }
  ]
}
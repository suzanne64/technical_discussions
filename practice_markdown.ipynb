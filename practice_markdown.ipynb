{
  "nbformat": 4,
  "nbformat_minor": 0,
  "metadata": {
    "colab": {
      "name": "practice_markdown.ipynb",
      "provenance": [],
      "collapsed_sections": [],
      "authorship_tag": "ABX9TyM8qgRhPy3BPuzuQg1MNVSt",
      "include_colab_link": true
    },
    "kernelspec": {
      "name": "python3",
      "display_name": "Python 3"
    },
    "language_info": {
      "name": "python"
    }
  },
  "cells": [
    {
      "cell_type": "markdown",
      "metadata": {
        "id": "view-in-github",
        "colab_type": "text"
      },
      "source": [
        "<a href=\"https://colab.research.google.com/github/suzanne64/technical_discussions/blob/main/practice_markdown.ipynb\" target=\"_parent\"><img src=\"https://colab.research.google.com/assets/colab-badge.svg\" alt=\"Open In Colab\"/></a>"
      ]
    },
    {
      "cell_type": "markdown",
      "metadata": {
        "id": "twnHInFqZrI9"
      },
      "source": [
        "# Practice Tiny Markdown\n",
        "\n",
        "Click on +Code or +Text to add code or markdown cells, respectively.\n",
        "* **Double click** on text cell to edit/add\n",
        "* Click *outside* the cell to close edit mode\n",
        "\n",
        "Look in [Master Markdown Github Guide](https://guides.github.com/features/mastering-markdown/) "
      ]
    },
    {
      "cell_type": "code",
      "metadata": {
        "colab": {
          "base_uri": "https://localhost:8080/"
        },
        "id": "hWaocmVrZUL1",
        "outputId": "5ca766ef-2248-4d20-ff94-1785688d2ed4"
      },
      "source": [
        "print('Happy Halloween')"
      ],
      "execution_count": 1,
      "outputs": [
        {
          "output_type": "stream",
          "name": "stdout",
          "text": [
            "Happy Halloween\n"
          ]
        }
      ]
    },
    {
      "cell_type": "code",
      "metadata": {
        "id": "tpYmGEfpmGtY"
      },
      "source": [
        ""
      ],
      "execution_count": null,
      "outputs": []
    }
  ]
}
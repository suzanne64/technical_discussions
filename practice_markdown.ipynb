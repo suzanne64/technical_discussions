{
  "nbformat": 4,
  "nbformat_minor": 0,
  "metadata": {
    "colab": {
      "name": "practice_markdown.ipynb",
      "provenance": [],
      "collapsed_sections": []
    },
    "kernelspec": {
      "name": "python3",
      "display_name": "Python 3"
    },
    "language_info": {
      "name": "python"
    }
  },
  "cells": [
    {
      "cell_type": "markdown",
      "metadata": {
        "id": "twnHInFqZrI9"
      },
      "source": [
        "# Practice Tiny Markdown\n",
        "\n",
        "Click on +Code or +Text to add code or markdown cells, respectively.\n",
        "* **Double click** on text cell to edit/add\n",
        "* Click *outside* the cell to close edit mode\n",
        "\n",
        "Look in [Master Markdown Github Guide](https://guides.github.com/features/mastering-markdown/) "
      ]
    },
    {
      "cell_type": "code",
      "metadata": {
        "colab": {
          "base_uri": "https://localhost:8080/"
        },
        "id": "hWaocmVrZUL1",
        "outputId": "f15ea5a2-22d0-4472-c30c-6c94bebf65cc"
      },
      "source": [
        "print('Happy Halloween')"
      ],
      "execution_count": 2,
      "outputs": [
        {
          "output_type": "stream",
          "name": "stdout",
          "text": [
            "Happy Halloween\n"
          ]
        }
      ]
    }
  ]
}